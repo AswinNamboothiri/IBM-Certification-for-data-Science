{
 "cells": [
  {
   "cell_type": "markdown",
   "id": "f87787be-3016-431b-8a74-610674d79cfa",
   "metadata": {},
   "source": [
    "# JupiterAssignmentIBM"
   ]
  },
  {
   "cell_type": "markdown",
   "id": "4ddd32e9-bb85-4cf4-9676-08c79f075d4c",
   "metadata": {},
   "source": [
    "### Introduction\n",
    "\n",
    "Welcome to the introductory assignment for the IBM Data Science Professional Certification! In this assignment, you'll embark on a journey to explore the foundational concepts and tools in the field of data science.\n",
    "\n",
    "Throughout this notebook, you'll have the opportunity to demonstrate your understanding of programming languages, libraries, and tools commonly used in data science. Additionally, you'll apply basic arithmetic operations to solve simple mathematical problems.\n",
    "\n",
    "Your grade for this assignment will be based on the completion of various exercises, each contributing to a total of 25 points. Please ensure that you carefully follow the instructions for each exercise and submit your completed notebook via GitHub.\n",
    "\n",
    "Let's dive in and get started!"
   ]
  },
  {
   "cell_type": "markdown",
   "id": "4b2137a0-ef3d-4046-9992-584af529b701",
   "metadata": {},
   "source": [
    "Data Science Languages\n",
    "\n",
    "1. Python\n",
    "2. R\n",
    "3. SQL (Structured Query Language)\n",
    "4. Java\n",
    "5. Scala\n",
    "6. Julia\n",
    "7. MATLAB\n",
    "8. SAS (Statistical Analysis System)\n",
    "9. JavaScript (for web-based data visualization)\n",
    "10. C/C++"
   ]
  },
  {
   "cell_type": "markdown",
   "id": "a25dd101-0b14-467f-a6c9-917d05c999d5",
   "metadata": {},
   "source": [
    "Data Science Libraries\n",
    "\n",
    "1. NumPy: Fundamental package for numerical computing in Python.\n",
    "2. Pandas: Data manipulation and analysis library, offering data structures like DataFrame.\n",
    "3. Matplotlib: Comprehensive library for creating static, animated, and interactive visualizations in Python.\n",
    "4. Seaborn: Statistical data visualization library based on Matplotlib, providing a high-level interface for drawing attractive and 5. informative statistical graphics.\n",
    "6. Scikit-learn: Machine learning library that supports various supervised and unsupervised learning algorithms.\n",
    "7. TensorFlow: Open-source machine learning framework developed by Google for large-scale machine learning applications.\n",
    "8. PyTorch: Deep learning framework that facilitates building and training neural networks.\n",
    "9. Keras: High-level neural networks API, running on top of TensorFlow or Theano.\n",
    "10. StatsModels: Statistical modeling and hypothesis testing library in Python.\n",
    "11. NLTK (Natural Language Toolkit): Library for natural language processing (NLP) tasks such as tokenization, stemming, tagging,      parsing, and more."
   ]
  },
  {
   "cell_type": "markdown",
   "id": "e7233b1b",
   "metadata": {},
   "source": [
    "Data Science Tools\n",
    "\n",
    "\n",
    "| Category          | Tool                               | Description                                                                                                 |\n",
    "|-------------------|------------------------------------|-------------------------------------------------------------------------------------------------------------|\n",
    "| Programming       | Python                             | General-purpose programming language with extensive libraries for data manipulation, analysis, and ML.      |\n",
    "|                   | R                                  | Statistical programming language widely used for data analysis, statistical modeling, and visualization.     |\n",
    "|                   | SQL                                | Standard language for managing and querying relational databases.                                            |\n",
    "| Data Manipulation | Pandas                             | Python library for data manipulation and analysis, providing DataFrame data structures and tools.           |\n",
    "|                   | NumPy                              | Fundamental package for scientific computing in Python, providing support for large, multi-dimensional arrays.|\n",
    "| Data Visualization| Matplotlib                         | Comprehensive plotting library for creating static, animated, and interactive visualizations in Python.      |\n",
    "|                   | Seaborn                            | Statistical data visualization library based on Matplotlib, offering high-level interface for attractive plots.|\n",
    "|                   | Plotly                             | Open-source graphing library for creating interactive plots and dashboards.                                   |\n",
    "| Machine Learning | Scikit-learn                       | Machine learning library in Python, providing simple and efficient tools for data mining and analysis.       |\n",
    "|                   | TensorFlow                         | Open-source machine learning framework developed by Google for large-scale ML applications.                  |\n",
    "|                   | PyTorch                            | Deep learning framework that facilitates building and training neural networks.                              |\n",
    "|                   | XGBoost                            | Scalable and efficient implementation of gradient boosting algorithms.                                       |\n",
    "|                   | LightGBM                           | Gradient boosting framework developed by Microsoft with high performance.                                     |\n",
    "| Natural Language  | NLTK (Natural Language Toolkit)    | Library for NLP tasks such as tokenization, stemming, tagging, parsing, and more.                             |\n",
    "| Processing        | SpaCy                              | NLP library for advanced NLP tasks such as named entity recognition, part-of-speech tagging, etc.            |\n",
    "|                   | Gensim                             | Library for topic modeling and document similarity analysis.                                                  |\n",
    "| Data Wrangling   | OpenRefine                        | Open-source tool for cleaning and transforming messy data.                                                    |\n",
    "|                   | Trifacta Wrangler                 | Data wrangling tool for exploring, cleaning, and preparing data for analysis.                                  |\n",
    "| Version Control  | Git                               | Distributed version control system for tracking changes in source code during software development.         |\n",
    "|                   | GitHub                            | Web-based platform for hosting and sharing Git repositories, often used for collaborative development.        |\n",
    "| Cloud Computing | Amazon Web Services (AWS)         | Cloud computing platform offering various services for storage, computing, analytics, and more.               |\n",
    "|                   | Google Cloud Platform (GCP)       | Suite of cloud computing services by Google, providing infrastructure, data analytics, ML, and more.          |\n",
    "|                   | Microsoft Azure                   | Cloud computing platform by Microsoft, offering services for computing, analytics, storage, and ML.         |\n",
    "\n",
    "This table provides a brief overview of some of the key tools across different categories in the Data Science ecosystem."
   ]
  },
  {
   "cell_type": "markdown",
   "id": "0eb72693",
   "metadata": {},
   "source": [
    "## Arithmetic Expression Examples\n",
    "\n",
    "In this section, we will explore some basic arithmetic operations using Python. Arithmetic operations are fundamental in data science for various calculations and transformations of data.\n",
    "\n",
    "### Addition\n",
    "\n",
    "```python\n",
    "# Example of addition\n",
    "num1 = 10\n",
    "num2 = 20\n",
    "sum_result = num1 + num2\n",
    "print(\"The sum of\", num1, \"and\", num2, \"is:\", sum_result\n",
    "      \n",
    "# Example of subtraction\n",
    "num1 = 50\n",
    "num2 = 30\n",
    "difference = num1 - num2\n",
    "print(\"The difference between\", num1, \"and\", num2, \"is:\", difference)\n",
    "\n",
    "# Example of multiplication\n",
    "num1 = 8\n",
    "num2 = 5\n",
    "product = num1 * num2\n",
    "print(\"The product of\", num1, \"and\", num2, \"is:\", product)\n",
    "\n",
    "# Example of division\n",
    "num1 = 100\n",
    "num2 = 4\n",
    "quotient = num1 / num2\n",
    "print(\"The quotient of\", num1, \"divided by\", num2, \"is:\", quotient)\n",
    "\n",
    "# Example of exponentiation\n",
    "base = 2\n",
    "exponent = 3\n",
    "result = base ** exponent\n",
    "print(\"The result of\", base, \"raised to the power of\", exponent, \"is:\", result)\n",
    "  \n",
    "      "
   ]
  },
  {
   "cell_type": "code",
   "execution_count": 3,
   "id": "d8639a5a",
   "metadata": {},
   "outputs": [
    {
     "name": "stdout",
     "output_type": "stream",
     "text": [
      "The product of 5 and 8 is: 40\n",
      "The sum of 10 and 15 is: 25\n"
     ]
    }
   ],
   "source": [
    "# Multiplication\n",
    "num1 = 5\n",
    "num2 = 8\n",
    "product = num1 * num2\n",
    "print(\"The product of\", num1, \"and\", num2, \"is:\", product)\n",
    "\n",
    "# Addition\n",
    "num3 = 10\n",
    "num4 = 15\n",
    "sum_result = num3 + num4\n",
    "print(\"The sum of\", num3, \"and\", num4, \"is:\", sum_result)\n"
   ]
  },
  {
   "cell_type": "code",
   "execution_count": 5,
   "id": "01d38d0e",
   "metadata": {},
   "outputs": [
    {
     "name": "stdout",
     "output_type": "stream",
     "text": [
      "400\n",
      "400 minutes is equal to 6.666666666666667 hours.\n"
     ]
    }
   ],
   "source": [
    "# Conversion from minutes to hours\n",
    "minutes = int(input())\n",
    "hours = minutes / 60\n",
    "print(minutes, \"minutes is equal to\", hours, \"hours.\")\n"
   ]
  },
  {
   "cell_type": "markdown",
   "id": "dd051337",
   "metadata": {},
   "source": [
    "## Objectives\n",
    "\n",
    "1. Gain familiarity with fundamental concepts and tools in data science.\n",
    "2. Explore programming languages commonly used in data science, such as Python and R.\n",
    "3. Understand the role of data science libraries, including Pandas, NumPy, and Matplotlib.\n",
    "4. Identify key data science tools for tasks like data manipulation, visualization, and machine learning.\n",
    "5. Practice basic arithmetic operations using Python for numerical computations.\n",
    "6. Convert units of measurement, such as minutes to hours, to solve real-world problems efficiently.\n"
   ]
  },
  {
   "cell_type": "markdown",
   "id": "79aa7849",
   "metadata": {},
   "source": [
    "### Author\n",
    "\n",
    "Aswin P\n"
   ]
  },
  {
   "cell_type": "code",
   "execution_count": null,
   "id": "158acd8d",
   "metadata": {},
   "outputs": [],
   "source": []
  }
 ],
 "metadata": {
  "kernelspec": {
   "display_name": "Python 3 (ipykernel)",
   "language": "python",
   "name": "python3"
  },
  "language_info": {
   "codemirror_mode": {
    "name": "ipython",
    "version": 3
   },
   "file_extension": ".py",
   "mimetype": "text/x-python",
   "name": "python",
   "nbconvert_exporter": "python",
   "pygments_lexer": "ipython3",
   "version": "3.9.12"
  }
 },
 "nbformat": 4,
 "nbformat_minor": 5
}
